{
  "nbformat": 4,
  "nbformat_minor": 0,
  "metadata": {
    "colab": {
      "provenance": []
    },
    "kernelspec": {
      "name": "python3",
      "display_name": "Python 3"
    },
    "language_info": {
      "name": "python"
    }
  },
  "cells": [
    {
      "cell_type": "markdown",
      "source": [
        "##QN) For two strings s and t, we say \"t divides s\" if and only if s = t + ... + t (i.e., t is concatenated with itself one or more times).\n",
        "\n",
        "Given two strings str1 and str2, return the largest string x such that x divides both str1 and str2.\n",
        "\n",
        "\n",
        "\n",
        "Example 1:\n",
        "\n",
        "Input: str1 = \"ABCABC\", str2 = \"ABC\"\n",
        "Output: \"ABC\"\n",
        "Example 2:\n",
        "\n",
        "Input: str1 = \"ABABAB\", str2 = \"ABAB\"\n",
        "Output: \"AB\"\n",
        "Example 3:\n",
        "\n",
        "Input: str1 = \"LEET\", str2 = \"CODE\"\n",
        "Output: \"\""
      ],
      "metadata": {
        "id": "oSZJE6akztT7"
      }
    },
    {
      "cell_type": "code",
      "execution_count": 4,
      "metadata": {
        "colab": {
          "base_uri": "https://localhost:8080/"
        },
        "id": "dIwsPp9StfYA",
        "outputId": "7555c306-28f1-4d8c-df02-ea1f2bf065b9"
      },
      "outputs": [
        {
          "output_type": "stream",
          "name": "stdout",
          "text": [
            "AB\n"
          ]
        }
      ],
      "source": [
        "class Solution:\n",
        "  def __init__(self, word1:str, word2:str):\n",
        "    self.word1 = word1\n",
        "    self.word2 = word2\n",
        "  def dividecheck(self):\n",
        "    l1 = set(self.word1)\n",
        "    l2 = set(self.word2)\n",
        "    if l1 == l2:\n",
        "      l1 = list(l1)\n",
        "      l1.sort()\n",
        "      return ''.join(l1)\n",
        "    else:\n",
        "      return \"not divisible\"\n",
        "s1 = Solution(\"ABABAB\",\"ABAB\")\n",
        "result = s1.dividecheck()\n",
        "print(result)"
      ]
    }
  ]
}