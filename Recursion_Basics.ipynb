{
  "nbformat": 4,
  "nbformat_minor": 0,
  "metadata": {
    "colab": {
      "provenance": []
    },
    "kernelspec": {
      "name": "python3",
      "display_name": "Python 3"
    },
    "language_info": {
      "name": "python"
    }
  },
  "cells": [
    {
      "cell_type": "markdown",
      "source": [
        "#Basic Recursion"
      ],
      "metadata": {
        "id": "X0W29TwMuZiI"
      }
    },
    {
      "cell_type": "markdown",
      "source": [
        "#**Base Condition**: this condition helps in the termination of the recursive function.\n",
        "\n",
        "#**Stack Overflow/ Stack Space**: If the recursive function is not stopping, then stack runs out of space, called stack overflow.\n",
        "\n",
        "#**Recursion Tree**: A recursion tree is a graphical representation of the sequence of recursive calls made by a recursive function.\n"
      ],
      "metadata": {
        "id": "REF4xwjABG_I"
      }
    },
    {
      "cell_type": "markdown",
      "source": [
        "##QN) print a message N times"
      ],
      "metadata": {
        "id": "-r93y1BWudNa"
      }
    },
    {
      "cell_type": "code",
      "execution_count": 4,
      "metadata": {
        "colab": {
          "base_uri": "https://localhost:8080/"
        },
        "id": "kHl27znrtqoX",
        "outputId": "ba62ff0c-0e2e-4eba-c5be-c99a4a3fd5d7"
      },
      "outputs": [
        {
          "output_type": "stream",
          "name": "stdout",
          "text": [
            "Hi Haby\n",
            "Hi Haby\n",
            "Hi Haby\n"
          ]
        }
      ],
      "source": [
        "def printntimes(message,n):\n",
        "  if n <=0: #BASE CONDITION - this condition helps in the termination of the recursive function.\n",
        "    return\n",
        "  print(message)\n",
        "  printntimes(message, n-1)\n",
        "printntimes(\"Hi Haby\", 3)"
      ]
    },
    {
      "cell_type": "markdown",
      "source": [
        "#QN) print a message N times through **BackTracking**"
      ],
      "metadata": {
        "id": "JgKs0XQrRqrz"
      }
    },
    {
      "cell_type": "code",
      "source": [
        "def printntimes(message,n):\n",
        "  if n <=0 :\n",
        "    return\n",
        "  printntimes(message,n-1)\n",
        "  print(message)\n",
        "\n",
        "printntimes('Hi Haby',3)"
      ],
      "metadata": {
        "colab": {
          "base_uri": "https://localhost:8080/"
        },
        "id": "rMPl6JtZR4Iq",
        "outputId": "b32ce2ba-4bb6-4cec-84d8-eb10769464f3"
      },
      "execution_count": 22,
      "outputs": [
        {
          "output_type": "stream",
          "name": "stdout",
          "text": [
            "Hi Haby\n",
            "Hi Haby\n",
            "Hi Haby\n"
          ]
        }
      ]
    },
    {
      "cell_type": "markdown",
      "source": [
        "#Print numbers from 1 to N"
      ],
      "metadata": {
        "id": "8ClrrvKRSVMc"
      }
    },
    {
      "cell_type": "code",
      "source": [
        "def printnumbers(i,n):\n",
        "  if i > n:\n",
        "    return\n",
        "  print(i)\n",
        "  printnumbers(i+1,n)\n",
        "printnumbers(1,5)\n"
      ],
      "metadata": {
        "colab": {
          "base_uri": "https://localhost:8080/"
        },
        "id": "JtTYc3cSSZ9z",
        "outputId": "c5c2801f-1812-442b-bdb0-005ef498220c"
      },
      "execution_count": 24,
      "outputs": [
        {
          "output_type": "stream",
          "name": "stdout",
          "text": [
            "1\n",
            "2\n",
            "3\n",
            "4\n",
            "5\n"
          ]
        }
      ]
    },
    {
      "cell_type": "markdown",
      "source": [
        "# Print numbers from 1 to N using BackTracking"
      ],
      "metadata": {
        "id": "sldCxPxoTJvE"
      }
    },
    {
      "cell_type": "code",
      "source": [
        "def generate_numbers(n, result=[]):\n",
        "    if n <= 0:\n",
        "        return result\n",
        "    result = generate_numbers(n - 1, result)\n",
        "    result.append(n)\n",
        "    return result\n",
        "\n",
        "# Example usage\n",
        "n = 5\n",
        "output = generate_numbers(n)\n",
        "print(output)\n"
      ],
      "metadata": {
        "colab": {
          "base_uri": "https://localhost:8080/"
        },
        "id": "r6ijFdY7voGm",
        "outputId": "d4c0311a-d5de-4d80-dc24-1bc959b0dd97"
      },
      "execution_count": 11,
      "outputs": [
        {
          "output_type": "stream",
          "name": "stdout",
          "text": [
            "[1, 2, 3, 4, 5]\n"
          ]
        }
      ]
    },
    {
      "cell_type": "markdown",
      "source": [
        "#print first N numbers using recursion\n",
        "\n",
        "#IN CODING PLATFORM- SEE CODE"
      ],
      "metadata": {
        "id": "_UBey-PPEfox"
      }
    },
    {
      "cell_type": "code",
      "source": [
        "from typing import List\n",
        "\n",
        "def printNos(x: int, arr:List[int] = []):\n",
        "    if x <= 0:\n",
        "        return arr  # Base case: Return the list when x is negative\n",
        "    arr.append(x)\n",
        "    return printNos(x - 1, arr)\n",
        "\n",
        "x  = 5\n",
        "print(printNos(x))"
      ],
      "metadata": {
        "colab": {
          "base_uri": "https://localhost:8080/"
        },
        "id": "qsVLxy5QEZ2I",
        "outputId": "c5413d4c-c821-4965-ff45-d9391b5a2f96"
      },
      "execution_count": 27,
      "outputs": [
        {
          "output_type": "stream",
          "name": "stdout",
          "text": [
            "[5, 4, 3, 2, 1]\n"
          ]
        }
      ]
    },
    {
      "cell_type": "markdown",
      "source": [
        "#see how fns are defined in above qn"
      ],
      "metadata": {
        "id": "hGyGqw9nZX1Y"
      }
    },
    {
      "cell_type": "markdown",
      "source": [
        "#sum of first n numbers using recursion\n",
        "\n",
        "#1) parameterized way (like we did earlier)"
      ],
      "metadata": {
        "id": "MpljXJockdRP"
      }
    },
    {
      "cell_type": "code",
      "source": [
        "from typing import List\n",
        "\n",
        "def sumFirstN(n: int, sum:int = 0) -> int:\n",
        "    if n <= 0:\n",
        "        return sum\n",
        "    sum += n\n",
        "    return sumFirstN(n-1, sum)\n",
        "\n",
        "result = sumFirstN(5)\n",
        "print(result)"
      ],
      "metadata": {
        "colab": {
          "base_uri": "https://localhost:8080/"
        },
        "id": "uQwiQZ_9kTsH",
        "outputId": "76670b1e-16c8-46f5-9824-6865826853f1"
      },
      "execution_count": 36,
      "outputs": [
        {
          "output_type": "stream",
          "name": "stdout",
          "text": [
            "15\n"
          ]
        }
      ]
    },
    {
      "cell_type": "markdown",
      "source": [
        "#2) Functional Recursion"
      ],
      "metadata": {
        "id": "gtcx2v_ekqFn"
      }
    },
    {
      "cell_type": "code",
      "source": [
        "from typing import List\n",
        "def sumFirstN(n:int):\n",
        "    if n <= 0:\n",
        "        return 0\n",
        "    return n + sumFirstN(n-1)\n",
        "\n",
        "result = sumFirstN(5)\n",
        "print(result)"
      ],
      "metadata": {
        "colab": {
          "base_uri": "https://localhost:8080/"
        },
        "id": "vOFr7TCxkbsT",
        "outputId": "463e483f-76c9-44cc-86d2-434226e088f3"
      },
      "execution_count": 30,
      "outputs": [
        {
          "output_type": "stream",
          "name": "stdout",
          "text": [
            "15\n"
          ]
        }
      ]
    },
    {
      "cell_type": "markdown",
      "source": [
        "#factorial of N numbers"
      ],
      "metadata": {
        "id": "WlMgZC_jmFUN"
      }
    },
    {
      "cell_type": "markdown",
      "source": [
        "#parameterized way"
      ],
      "metadata": {
        "id": "6k6RxA3xox20"
      }
    },
    {
      "cell_type": "code",
      "source": [
        "from typing import *\n",
        "\n",
        "def factorialNumbers(n: int, mult:int = 1) -> List[int]:\n",
        "    if n <= 1:\n",
        "        return mult\n",
        "    mult *= n\n",
        "    return factorialNumbers(n-1, mult)\n",
        "\n",
        "result= factorialNumbers(5)\n",
        "print(result)"
      ],
      "metadata": {
        "colab": {
          "base_uri": "https://localhost:8080/"
        },
        "id": "oQFzXqdLm6aU",
        "outputId": "dd51b0d1-ad62-4d4d-d5d0-a4e1ec8729e0"
      },
      "execution_count": 34,
      "outputs": [
        {
          "output_type": "stream",
          "name": "stdout",
          "text": [
            "120\n"
          ]
        }
      ]
    },
    {
      "cell_type": "markdown",
      "source": [
        "#functional way"
      ],
      "metadata": {
        "id": "HJD89Qw4o0jy"
      }
    },
    {
      "cell_type": "code",
      "source": [
        "from typing import *\n",
        "\n",
        "def factorialNumbers(n: int):\n",
        "    if n <= 1:\n",
        "        return 1\n",
        "    return n * factorialNumbers(n-1)\n",
        "\n",
        "result= factorialNumbers(5)\n",
        "print(result)"
      ],
      "metadata": {
        "colab": {
          "base_uri": "https://localhost:8080/"
        },
        "id": "FiTGOGCCmJ__",
        "outputId": "5d677693-ed95-432f-ed59-925dd5efb4f0"
      },
      "execution_count": 31,
      "outputs": [
        {
          "output_type": "stream",
          "name": "stdout",
          "text": [
            "120\n"
          ]
        }
      ]
    },
    {
      "cell_type": "markdown",
      "source": [
        "#OBSERVE WHATS WRITTEN as return IN FUNCTIONAL RECURSION & PARAMETERIZED RECURSION in both the problems,. think y"
      ],
      "metadata": {
        "id": "PSsBqo-Wnruq"
      }
    },
    {
      "cell_type": "markdown",
      "source": [
        "#QN) REVERSE THE STRING\n",
        "\n",
        "Given an array 'arr' of size 'n'.\n",
        "\n",
        "\n",
        "\n",
        "Return an array with all the elements placed in reverse order.\n",
        "\n",
        "\n",
        "\n",
        "Note:\n",
        "You don’t need to print anything. Just implement the given function.\n",
        "#Example:\n",
        "Input: n = 6, arr = [5, 7, 8, 1, 6, 3]\n",
        "\n",
        "Output: [3, 6, 1, 8, 7, 5]\n",
        "\n",
        "Explanation: After reversing the array, it looks like this [3, 6, 1, 8, 7, 5]."
      ],
      "metadata": {
        "id": "thDHgkrSfNp7"
      }
    },
    {
      "cell_type": "markdown",
      "source": [
        "a) normal method"
      ],
      "metadata": {
        "id": "YFu1Ox_jr45P"
      }
    },
    {
      "cell_type": "code",
      "source": [
        "\n",
        "def reverseArray(n, nums):\n",
        "    # Create a new list to store the reversed elements.\n",
        "    reversed_array = [0] * n\n",
        "\n",
        "    # Traverse the original list in reverse order and store the elements in the new list.\n",
        "    for i in range(n):\n",
        "        reversed_array[n - i - 1] = nums[i]\n",
        "\n",
        "    # Returning the reversed list.\n",
        "    return reversed_array\n",
        "\n",
        "arr = [1, 2, 3, 4, 5]\n",
        "n = len(arr)\n",
        "result= reverseArray(n, arr)\n",
        "print(result)\n"
      ],
      "metadata": {
        "colab": {
          "base_uri": "https://localhost:8080/"
        },
        "id": "CpjcPNnWj60D",
        "outputId": "5c86902d-8652-4281-9f22-15e3b8922a77"
      },
      "execution_count": 14,
      "outputs": [
        {
          "output_type": "stream",
          "name": "stdout",
          "text": [
            "[5, 4, 3, 2, 1]\n"
          ]
        }
      ]
    },
    {
      "cell_type": "markdown",
      "source": [
        "b) using **TWO POINTER METHOD**"
      ],
      "metadata": {
        "id": "2Pxvn4r-r7Ic"
      }
    },
    {
      "cell_type": "code",
      "source": [
        "def reversearray(n:int, list1:List[int]):\n",
        "  leftptr = 0\n",
        "  rightptr = n-1\n",
        "  while leftptr < rightptr:\n",
        "    temp = list1[leftptr]\n",
        "    list1[leftptr] = list1[rightptr]\n",
        "    list1[rightptr] = temp\n",
        "    leftptr += 1\n",
        "    rightptr -= 1\n",
        "  return list1\n",
        "\n",
        "list1= [1,2,3,4,5]\n",
        "n = len(list1)\n",
        "result = reversearray(n, list1)\n",
        "print(result)"
      ],
      "metadata": {
        "colab": {
          "base_uri": "https://localhost:8080/"
        },
        "id": "D1PJBQqIqKP2",
        "outputId": "3e29cf5c-4a75-4ca5-916b-ef7c64220354"
      },
      "execution_count": 16,
      "outputs": [
        {
          "output_type": "stream",
          "name": "stdout",
          "text": [
            "[5, 4, 3, 2, 1]\n"
          ]
        }
      ]
    },
    {
      "cell_type": "markdown",
      "source": [
        "c) using **SINGLE POINTER METHOD**"
      ],
      "metadata": {
        "id": "qW7J7YS1r-7C"
      }
    },
    {
      "cell_type": "code",
      "source": [
        "def reversearray(n:int, list1:List[int]):\n",
        "  i = 0\n",
        "  while i < n//2:\n",
        "    temp = list1[i]\n",
        "    list1[i] = list1[n-i-1]\n",
        "    list1[n-i-1] = temp\n",
        "    i += 1\n",
        "  return list1\n",
        "\n",
        "list1= [1,2,3,4,5]\n",
        "n = len(list1)\n",
        "result = reversearray(n, list1)\n",
        "print(result)"
      ],
      "metadata": {
        "colab": {
          "base_uri": "https://localhost:8080/"
        },
        "id": "3uDMxRUsrU4_",
        "outputId": "55dc1654-b94f-4230-a61f-df11f5f07a80"
      },
      "execution_count": 17,
      "outputs": [
        {
          "output_type": "stream",
          "name": "stdout",
          "text": [
            "[5, 4, 3, 2, 1]\n"
          ]
        }
      ]
    },
    {
      "cell_type": "markdown",
      "source": [
        "#QN) palindrome check"
      ],
      "metadata": {
        "id": "f1c19Irww781"
      }
    },
    {
      "cell_type": "code",
      "source": [
        "def isPalindrome(string: str) -> bool:\n",
        "    n =  len(string)\n",
        "    str = list(string)\n",
        "    i= 0\n",
        "    while i <= n//2:\n",
        "        if str[i] != str[n-i-1]:\n",
        "            return False\n",
        "        i += 1\n",
        "    return True\n",
        "\n",
        "s = \"madam\"\n",
        "result = isPalindrome(s)\n",
        "print(result)\n",
        "\n",
        "\n",
        "\n"
      ],
      "metadata": {
        "colab": {
          "base_uri": "https://localhost:8080/"
        },
        "id": "siL476wCtLqJ",
        "outputId": "112b357b-d341-4e71-805f-9bddadef9015"
      },
      "execution_count": 53,
      "outputs": [
        {
          "output_type": "stream",
          "name": "stdout",
          "text": [
            "True\n"
          ]
        }
      ]
    },
    {
      "cell_type": "markdown",
      "source": [
        "#QN) Palindrome check using Recursion\n"
      ],
      "metadata": {
        "id": "hyjBg1XQ62qZ"
      }
    },
    {
      "cell_type": "code",
      "source": [
        "def palindromerecursive(n, string, i=0):\n",
        "    if i >= n // 2:\n",
        "        return True\n",
        "    if string[i] != string[n - i - 1]:\n",
        "        return False\n",
        "    return palindromerecursive(n, string, i + 1)\n",
        "\n",
        "def mainn():\n",
        "    string = 'madam'\n",
        "    n = len(string)\n",
        "    result = palindromerecursive(n, string)\n",
        "    print(result)\n",
        "\n",
        "mainn()\n"
      ],
      "metadata": {
        "colab": {
          "base_uri": "https://localhost:8080/"
        },
        "id": "VX_4kqIX6633",
        "outputId": "8897399f-ba82-4041-bb62-7440952a752d"
      },
      "execution_count": 54,
      "outputs": [
        {
          "output_type": "stream",
          "name": "stdout",
          "text": [
            "True\n"
          ]
        }
      ]
    },
    {
      "cell_type": "markdown",
      "source": [
        "#Fibonacci question using Recursion\n",
        "\n",
        "###this is an example of **multiple recursion calls**"
      ],
      "metadata": {
        "id": "IzyfrCyD1WEu"
      }
    },
    {
      "cell_type": "code",
      "source": [
        "0 1 1 2 3 5 8 13 21\n",
        "0 1 2 3 4 5 6  7  8\n",
        "f(3) = f(2) + f(1) = 1 + 1 = 2\n",
        "f(2) = f(1) + f(0) = 1 + 0 = 1\n",
        "f(1) = 1\n",
        "f(0) = 0"
      ],
      "metadata": {
        "id": "cmiUWrNJ1tNM"
      },
      "execution_count": null,
      "outputs": []
    },
    {
      "cell_type": "code",
      "source": [
        "def fibonaccirecursive(n: int):\n",
        "  if n <= 1:\n",
        "    return n\n",
        "  last = fibonaccirecursive(n - 1)\n",
        "  slast = fibonaccirecursive(n-2)\n",
        "  return last + slast\n",
        "\n",
        "def mainn():\n",
        "  n = 6\n",
        "  result  = fibonaccirecursive(n)\n",
        "  print(result)\n",
        "\n",
        "mainn()"
      ],
      "metadata": {
        "colab": {
          "base_uri": "https://localhost:8080/"
        },
        "id": "1W1nXr3f1aV4",
        "outputId": "478f20e8-b6c3-4dc0-afdb-f14dd5f5abcd"
      },
      "execution_count": 35,
      "outputs": [
        {
          "output_type": "stream",
          "name": "stdout",
          "text": [
            "8\n"
          ]
        }
      ]
    }
  ]
}