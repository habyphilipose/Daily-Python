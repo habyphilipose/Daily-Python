{
  "nbformat": 4,
  "nbformat_minor": 0,
  "metadata": {
    "colab": {
      "provenance": []
    },
    "kernelspec": {
      "name": "python3",
      "display_name": "Python 3"
    },
    "language_info": {
      "name": "python"
    }
  },
  "cells": [
    {
      "cell_type": "markdown",
      "source": [
        "\n",
        "\n",
        "#1) SELECTION SORT\n",
        "\n",
        "#2) BUBBLE SORT\n",
        "\n",
        "#3) INSERTION SORT\n",
        "\n",
        "All three of them have time complexity of O(n^2)\n",
        "\n",
        "then why do we use it\n",
        "\n",
        "--> bcz of its simplicity and ease of implementation"
      ],
      "metadata": {
        "id": "3TUvauB2t3N_"
      }
    },
    {
      "cell_type": "markdown",
      "source": [
        "##SELECTION SORT\n",
        "\n",
        "step 1: **select the min element** from the array and swap\n",
        "\n",
        "step 2: repeat the process for each iteration skipping the swapped element (arr[0]) as we have now placed the minimum element at first position now"
      ],
      "metadata": {
        "id": "maHXtyX7uGLA"
      }
    },
    {
      "cell_type": "code",
      "execution_count": 9,
      "metadata": {
        "colab": {
          "base_uri": "https://localhost:8080/"
        },
        "id": "qgelgbvDtT76",
        "outputId": "ec6fb78a-533a-41f3-829a-99ab3903faef"
      },
      "outputs": [
        {
          "output_type": "stream",
          "name": "stdout",
          "text": [
            "[2, 4, 8, 10, 19, 23]\n"
          ]
        }
      ],
      "source": [
        "\n",
        "def selectionsort(arr: list[int]):\n",
        "  for i in range(len(arr)):\n",
        "    min_index = i\n",
        "    for j in range(i+1, len(arr)):\n",
        "      if arr[j] < arr[min_index]:\n",
        "        min_index = j\n",
        "    arr[i], arr[min_index] = arr[min_index], arr[i]\n",
        "  return arr\n",
        "\n",
        "arr = [10,4,2,8,23,19]\n",
        "result = selectionsort(arr)\n",
        "print(result)\n"
      ]
    },
    {
      "cell_type": "code",
      "source": [
        "def selectionsort(arr: list[int]):\n",
        "    for i in range(len(arr)):\n",
        "        min_index = i\n",
        "        for j in range(i+1, len(arr)):\n",
        "            if arr[j] < arr[min_index]:\n",
        "                min_index = j\n",
        "        # Swap the minimum element with the current element at index i\n",
        "        arr[i], arr[min_index] = arr[min_index], arr[i]\n",
        "    return arr\n",
        "\n",
        "arr = [10, 4, 2, 8, 23, 19]\n",
        "result = selectionsort(arr)\n",
        "print(result)\n"
      ],
      "metadata": {
        "colab": {
          "base_uri": "https://localhost:8080/"
        },
        "id": "NOHkK16O12FJ",
        "outputId": "d76a1a6d-67c3-4765-e0a1-ec8b4ec631b4"
      },
      "execution_count": 8,
      "outputs": [
        {
          "output_type": "stream",
          "name": "stdout",
          "text": [
            "[2, 4, 8, 10, 19, 23]\n"
          ]
        }
      ]
    },
    {
      "cell_type": "markdown",
      "source": [
        "#BUBBLE SORT\n",
        "\n",
        "step 1: compares the element with the adjacent element and swaps if not sorted\n",
        "\n",
        "step 2: in each iteration of step 1, the last element will be the maximum element of the array, followed by second max elemnt at second last position and so on"
      ],
      "metadata": {
        "id": "JB3gPX2431R2"
      }
    },
    {
      "cell_type": "code",
      "source": [
        "in java code is\n",
        "\n",
        "for(i=n-1; i>=1, i--):\n",
        "  for( j=1; j<=i; j++):\n",
        "    if a[j] > a[j+1]:\n",
        "      swap"
      ],
      "metadata": {
        "id": "C6bspIRx5QNE"
      },
      "execution_count": null,
      "outputs": []
    },
    {
      "cell_type": "markdown",
      "source": [
        "#we do like this bcz after each iteration, the maximum element goes to the last, so no need to go till the last elemnt in each iteration, no need to go till second last elemnt after next iteration."
      ],
      "metadata": {
        "id": "Nojdz65jVs89"
      }
    },
    {
      "cell_type": "code",
      "source": [
        "def bubblesort(arr: list[int]):\n",
        "  for j in range(len(arr)-1,1,-1):\n",
        "    for i in range(j):\n",
        "      if arr[i] > arr[i+1]:\n",
        "        temp = arr[i]\n",
        "        arr[i] = arr[i+1]\n",
        "        arr[i+1] = temp\n",
        "  return arr\n",
        "arr = [10, 4, 2, 8, 23, 19]\n",
        "result = bubblesort(arr)\n",
        "print(result)"
      ],
      "metadata": {
        "colab": {
          "base_uri": "https://localhost:8080/"
        },
        "id": "hjpjUpqi4ONI",
        "outputId": "73d044ba-10f6-4493-a777-47059aa9576b"
      },
      "execution_count": 4,
      "outputs": [
        {
          "output_type": "stream",
          "name": "stdout",
          "text": [
            "[2, 4, 8, 10, 19, 23]\n"
          ]
        }
      ]
    },
    {
      "cell_type": "markdown",
      "source": [
        "##INSERTION SORT"
      ],
      "metadata": {
        "id": "x_3zhUbZWHvD"
      }
    },
    {
      "cell_type": "markdown",
      "source": [
        "###Take an element and place it in the correct order\n",
        "\n",
        "How ?\n",
        "eg: arr = [14,9, 6,24,11,3]\n",
        "\n",
        "now first we take array [14,9] - its not sorted , so sort it to [9,14]\n",
        "now the arr = [9,14,6,24,11,3]\n",
        "\n",
        "now we take array [9,14,6]- its not sorted , so [14,6] is compared first, and swapped to [6,14] , now arr= [9,6,14], again its not sorted, so we take [9,6] and swap it to [6,9], so now the arr = [6,9,14]\n",
        "\n",
        "similarly repeat the process until we reach the end."
      ],
      "metadata": {
        "id": "QEsLc6qMWJ_S"
      }
    },
    {
      "cell_type": "code",
      "source": [
        "def insertionsort(arr: list[int]):\n",
        "  for i in range(1, len(arr)):\n",
        "    for j in range(i,0,-1):\n",
        "      if arr[j] < arr[j-1]:\n",
        "        temp = arr[j]\n",
        "        arr[j] = arr[j-1]\n",
        "        arr[j-1] = temp\n",
        "  return arr\n",
        "\n",
        "arr = [10, 4, 2, 8, 23, 19]\n",
        "result = insertionsort(arr)\n",
        "print(result)"
      ],
      "metadata": {
        "colab": {
          "base_uri": "https://localhost:8080/"
        },
        "id": "NV8gUa5OWhhS",
        "outputId": "75351232-42c9-4b1b-93b2-6694effd2510"
      },
      "execution_count": 6,
      "outputs": [
        {
          "output_type": "stream",
          "name": "stdout",
          "text": [
            "[2, 4, 8, 10, 19, 23]\n"
          ]
        }
      ]
    }
  ]
}