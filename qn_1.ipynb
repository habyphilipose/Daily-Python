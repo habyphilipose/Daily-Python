#why we use
{
  "nbformat": 4,
  "nbformat_minor": 0,
  "metadata": {
    "colab": {
      "provenance": []
    },
    "kernelspec": {
      "name": "python3",
      "display_name": "Python 3"
    },
    "language_info": {
      "name": "python"
    }
  },
  "cells": [
    {
      "cell_type": "markdown",
      "source": [
        "#concepts before doing this question"
      ],
      "metadata": {
        "id": "GZzcC_6Ls0w7"
      }
    },
    {
      "cell_type": "code",
      "source": [
        "a = []\n",
        "a.append('a')\n",
        "a.append('b')\n",
        "a.remove('a')\n",
        "a"
      ],
      "metadata": {
        "colab": {
          "base_uri": "https://localhost:8080/"
        },
        "id": "Un8bjYelpOVz",
        "outputId": "62e5d120-8a87-43ca-9675-c004ffaee06f"
      },
      "execution_count": 6,
      "outputs": [
        {
          "output_type": "execute_result",
          "data": {
            "text/plain": [
              "['b']"
            ]
          },
          "metadata": {},
          "execution_count": 6
        }
      ]
    },
    {
      "cell_type": "code",
      "source": [
        "a = ['a','b','c','d']\n",
        "b= []\n",
        "b.extend(a[-3:])\n",
        "b"
      ],
      "metadata": {
        "colab": {
          "base_uri": "https://localhost:8080/"
        },
        "id": "DjfhEERzqDhZ",
        "outputId": "9f5267a6-8e44-4a30-b279-53e0fc00fed9"
      },
      "execution_count": 15,
      "outputs": [
        {
          "output_type": "execute_result",
          "data": {
            "text/plain": [
              "['b', 'c', 'd']"
            ]
          },
          "metadata": {},
          "execution_count": 15
        }
      ]
    },
    {
      "cell_type": "code",
      "source": [
        "a = ['a','b','c','d']\n",
        "b= []\n",
        "b.extend(a[3:])\n",
        "b"
      ],
      "metadata": {
        "colab": {
          "base_uri": "https://localhost:8080/"
        },
        "id": "mFNlcd3AqXbn",
        "outputId": "56e85704-8375-41b9-ab0f-65dcf68eb605"
      },
      "execution_count": 14,
      "outputs": [
        {
          "output_type": "execute_result",
          "data": {
            "text/plain": [
              "['d']"
            ]
          },
          "metadata": {},
          "execution_count": 14
        }
      ]
    },
    {
      "cell_type": "markdown",
      "source": [
        "##Qn) You are given two strings word1 and word2. Merge the strings by adding letters in alternating order, starting with word1. If a string is longer than the other, append the additional letters onto the end of the merged string.\n",
        "\n",
        "Return the merged string.\n",
        "\n",
        "\n",
        "\n",
        "Example 1:\n",
        "\n",
        "Input: word1 = \"abc\", word2 = \"pqr\"\n",
        "Output: \"apbqcr\"\n",
        "Explanation: The merged string will be merged as so:\n",
        "word1:  a   b   c\n",
        "word2:    p   q   r\n",
        "merged: a p b q c r\n",
        "Example 2:\n",
        "\n",
        "Input: word1 = \"ab\", word2 = \"pqrs\"\n",
        "Output: \"apbqrs\"\n",
        "Explanation: Notice that as word2 is longer, \"rs\" is appended to the end.\n",
        "word1:  a   b\n",
        "word2:    p   q   r   s\n",
        "merged: a p b q   r   s\n",
        "Example 3:\n",
        "\n",
        "Input: word1 = \"abcd\", word2 = \"pq\"\n",
        "Output: \"apbqcd\"\n",
        "Explanation: Notice that as word1 is longer, \"cd\" is appended to the end.\n",
        "word1:  a   b   c   d\n",
        "word2:    p   q\n",
        "merged: a p b q c   d\n",
        "word2:    p   q   r   s\n",
        "merged: a p b q   r   s\n",
        "Example 3:\n",
        "\n",
        "Input: word1 = \"abcd\", word2 = \"pq\"\n",
        "Output: \"apbqcd\"\n",
        "Explanation: Notice that as word1 is longer, \"cd\" is appended to the end.\n",
        "word1:  a   b   c   d\n",
        "word2:    p   q\n",
        "merged: a p b q c   d"
      ],
      "metadata": {
        "id": "nkdaqCtZNIM1"
      }
    },
    {
      "cell_type": "code",
      "execution_count": 20,
      "metadata": {
        "colab": {
          "base_uri": "https://localhost:8080/"
        },
        "id": "reZ2vPWfM8hF",
        "outputId": "b52147e8-ebe4-40aa-94ca-8f1d30a132b1"
      },
      "outputs": [
        {
          "output_type": "stream",
          "name": "stdout",
          "text": [
            "apbcd\n"
          ]
        }
      ],
      "source": [
        "class Solution:\n",
        "  def __init__(self, word1:str, word2:str):\n",
        "    self.word1 = word1\n",
        "    self.word2 = word2\n",
        "  def mergealternatively(self):\n",
        "    l1= list(self.word1)\n",
        "    l2 = list(self.word2)\n",
        "    len1 = len(l1)\n",
        "    len2 = len(l2)\n",
        "    i = 0\n",
        "    words = []\n",
        "    while len1>0 and len2>0:\n",
        "      words.append(l1[i])\n",
        "      words.append(l2[i])\n",
        "      i+=1\n",
        "      len1 -= 1\n",
        "      len2 -= 2\n",
        "    c = -1*len1\n",
        "    d= -2*len2\n",
        "    if len1==0:\n",
        "      words.extend(l2[c:])\n",
        "    else:\n",
        "      words.extend(l1[c:])\n",
        "\n",
        "    return ''.join(words)\n",
        "\n",
        "s1 = Solution('abcd','pq')\n",
        "result = s1.mergealternatively()\n",
        "print(result)"
      ]
    }
  ]
}
