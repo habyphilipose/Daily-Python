{
  "nbformat": 4,
  "nbformat_minor": 0,
  "metadata": {
    "colab": {
      "provenance": []
    },
    "kernelspec": {
      "name": "python3",
      "display_name": "Python 3"
    },
    "language_info": {
      "name": "python"
    }
  },
  "cells": [
    {
      "cell_type": "markdown",
      "source": [
        "# Example usage:\n",
        "chars1 = [\"a\", \"a\", \"b\", \"b\", \"c\", \"c\", \"c\"]\n",
        "output1 = compress(chars1)\n",
        "print(output1)  # Output: 6, chars1 is modified to [\"a\", \"2\", \"b\", \"2\", \"c\", \"3\"]\n",
        "\n",
        "chars2 = [\"a\"]\n",
        "output2 = compress(chars2)\n",
        "print(output2)  # Output: 1, chars2 remains unchanged [\"a\"]"
      ],
      "metadata": {
        "id": "nH1WNsAVvXpa"
      }
    },
    {
      "cell_type": "code",
      "source": [
        "class Solution:\n",
        "  def __init__(self,list1):\n",
        "    self.list1 = list1\n",
        "  def compressor(self):\n",
        "    read_index = 0\n",
        "    write_index = 0\n",
        "    abc = []\n",
        "\n",
        "    while read_index < len(self.list1):\n",
        "      newword = self.list1[read_index]\n",
        "      count = 0\n",
        "\n",
        "      while read_index < len(self.list1) and self.list1[read_index]== newword:\n",
        "        read_index += 1\n",
        "        count += 1\n",
        "\n",
        "      abc.append(newword)\n",
        "      abc.append(count)\n",
        "      write_index += 1\n",
        "    return abc\n",
        "\n",
        "s1 = Solution([\"a\", \"a\", \"b\", \"b\", \"c\", \"c\", \"c\"])\n",
        "result = s1.compressor()\n",
        "print(result)\n",
        "\n",
        "s2 = Solution([\"a\", \"a\", \"b\", \"c\", \"c\", \"c\",\"c\", \"c\",\"c\"])\n",
        "result = s2.compressor()\n",
        "print(result)"
      ],
      "metadata": {
        "colab": {
          "base_uri": "https://localhost:8080/"
        },
        "id": "6o90VlcvvYB4",
        "outputId": "36b9eb1b-003b-4b4d-f2f7-0f945cdcac46"
      },
      "execution_count": 5,
      "outputs": [
        {
          "output_type": "stream",
          "name": "stdout",
          "text": [
            "['a', 2, 'b', 2, 'c', 3]\n",
            "['a', 2, 'b', 1, 'c', 6]\n"
          ]
        }
      ]
    }
  ]
}