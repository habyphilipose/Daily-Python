{
  "nbformat": 4,
  "nbformat_minor": 0,
  "metadata": {
    "colab": {
      "provenance": []
    },
    "kernelspec": {
      "name": "python3",
      "display_name": "Python 3"
    },
    "language_info": {
      "name": "python"
    }
  },
  "cells": [
    {
      "cell_type": "markdown",
      "source": [
        "##QN) You have a long flowerbed in which some of the plots are planted, and some are not. However, flowers cannot be planted in adjacent plots.\n",
        "\n",
        "Given an integer array flowerbed containing 0's and 1's, where 0 means empty and 1 means not empty, and an integer n, return true if n new flowers can be planted in the flowerbed without violating the no-adjacent-flowers rule and false otherwise.\n",
        "\n",
        "\n",
        "\n",
        "Example 1:\n",
        "\n",
        "Input: flowerbed = [1,0,0,0,1], n = 1\n",
        "Output: true\n",
        "Example 2:\n",
        "\n",
        "Input: flowerbed = [1,0,0,0,1], n = 2\n",
        "Output: false"
      ],
      "metadata": {
        "id": "9_78hU404oEA"
      }
    },
    {
      "cell_type": "code",
      "execution_count": 13,
      "metadata": {
        "colab": {
          "base_uri": "https://localhost:8080/"
        },
        "id": "rg8IkSjy3dPk",
        "outputId": "618ab6cc-533d-4d2e-97f6-502955035f0b"
      },
      "outputs": [
        {
          "output_type": "stream",
          "name": "stdout",
          "text": [
            "True\n"
          ]
        }
      ],
      "source": [
        "class Solution:\n",
        "  def __init__(self, list1, entries):\n",
        "    self.list1 = list1\n",
        "    self.entries = entries\n",
        "  def checkplants(self):\n",
        "    n = 0\n",
        "    if self.list1[0] == self.list1[1]== 0:\n",
        "      self.list1[0] = 1\n",
        "      n+=1\n",
        "    for i in range(1, len(self.list1)-1):\n",
        "      if self.list1[i-1]== self.list1[i+1] == 0:\n",
        "        self.list1[i] ==1\n",
        "        n+=1\n",
        "    if self.list1[-1] == self.list1[-2]== 0:\n",
        "      self.list1[-1] = 1\n",
        "      n+=1\n",
        "    if n < self.entries:\n",
        "      return False\n",
        "    else:\n",
        "      return True\n",
        "s1 = Solution([1,0,0,0,1], 1)\n",
        "result = s1.checkplants()\n",
        "print(result)\n"
      ]
    },
    {
      "cell_type": "markdown",
      "source": [
        "##more optimised code"
      ],
      "metadata": {
        "id": "LabXV8dd9mJ_"
      }
    },
    {
      "cell_type": "code",
      "source": [
        "class Solution:\n",
        "  def __init__(self, flowerbed, n):\n",
        "    self.flowerbed = flowerbed\n",
        "    self.n = n\n",
        "\n",
        "  def canPlaceFlowers(self):\n",
        "    count = 0\n",
        "    i = 0\n",
        "    while i< len(self.flowerbed):\n",
        "      if self.flowerbed[i]==0 and (i==0 or self.flowerbed[i-1]==0) and (i==len(self.flowerbed)-1 or self.flowerbed[i+1]==0):\n",
        "        self.flowerbed[i]=  1\n",
        "        count += 1\n",
        "        i += 2\n",
        "      else:\n",
        "        i +=1\n",
        "    return count >= self.n\n",
        "\n",
        "s1 = Solution([1,0,0,0,1], 1)\n",
        "result = s1.canPlaceFlowers()\n",
        "print(result)\n",
        "\n",
        "s2 = Solution([1,0,0,0,1], 2)\n",
        "result = s2.canPlaceFlowers()\n",
        "print(result)\n"
      ],
      "metadata": {
        "colab": {
          "base_uri": "https://localhost:8080/"
        },
        "id": "uDGXdBBW9mkR",
        "outputId": "0ae46997-5440-4591-e000-631e3c390ee7"
      },
      "execution_count": 14,
      "outputs": [
        {
          "output_type": "stream",
          "name": "stdout",
          "text": [
            "True\n",
            "False\n"
          ]
        }
      ]
    }
  ]
}