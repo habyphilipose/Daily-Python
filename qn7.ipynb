{
  "nbformat": 4,
  "nbformat_minor": 0,
  "metadata": {
    "colab": {
      "provenance": []
    },
    "kernelspec": {
      "name": "python3",
      "display_name": "Python 3"
    },
    "language_info": {
      "name": "python"
    }
  },
  "cells": [
    {
      "cell_type": "markdown",
      "source": [
        "QN) Given an integer array nums, return an array answer such that answer[i] is equal to the product of all the elements of nums except nums[i].\n",
        "\n",
        "The product of any prefix or suffix of nums is guaranteed to fit in a 32-bit integer.\n",
        "\n",
        "You must write an algorithm that runs in O(n) time and without using the division operation.\n",
        "\n",
        "\n",
        "\n",
        "Example 1:\n",
        "\n",
        "Input: nums = [1,2,3,4]\n",
        "Output: [24,12,8,6]\n",
        "Example 2:\n",
        "\n",
        "Input: nums = [-1,1,0,-3,3]\n",
        "Output: [0,0,9,0,0]"
      ],
      "metadata": {
        "id": "vyw9fl8rh0D8"
      }
    },
    {
      "cell_type": "code",
      "source": [
        "class Solution:\n",
        "  def __init__(self, list1):\n",
        "    self.list1= list1\n",
        "  def multi(self):\n",
        "    s = 1\n",
        "    zerocount = 0\n",
        "    for i in range(len(self.list1)):\n",
        "      if self.list1[i]== 0:\n",
        "        zerocount += 1\n",
        "      else:\n",
        "        s = s*self.list1[i]\n",
        "    for i in range(len(self.list1)):\n",
        "      if zerocount == 1 and self.list1[i] != 0:\n",
        "        self.list1[i] = 0\n",
        "      elif zerocount == 1 and self.list1[i] == 0:\n",
        "        self.list1[i] = s\n",
        "      elif zerocount >=1:\n",
        "        self.list1[i] = 0\n",
        "      else:\n",
        "        self.list1[i] = s/self.list1[i]\n",
        "    return self.list1\n",
        "s1 = Solution([1,2,3,4])\n",
        "result = s1.multi()\n",
        "print(result)\n",
        "\n",
        "s2 = Solution([-1,1,0,-3,3])\n",
        "result = s2.multi()\n",
        "print(result)"
      ],
      "metadata": {
        "colab": {
          "base_uri": "https://localhost:8080/"
        },
        "id": "JRK0OfSgid9y",
        "outputId": "58e29f8e-130e-4c81-f3a3-0dc2d0456201"
      },
      "execution_count": 36,
      "outputs": [
        {
          "output_type": "stream",
          "name": "stdout",
          "text": [
            "[24.0, 12.0, 8.0, 6.0]\n",
            "[0, 0, 9, 0, 0]\n"
          ]
        }
      ]
    }
  ]
}