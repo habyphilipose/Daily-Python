{
  "nbformat": 4,
  "nbformat_minor": 0,
  "metadata": {
    "colab": {
      "provenance": []
    },
    "kernelspec": {
      "name": "python3",
      "display_name": "Python 3"
    },
    "language_info": {
      "name": "python"
    }
  },
  "cells": [
    {
      "cell_type": "markdown",
      "source": [
        "Qn) Given an integer array nums, return true if there exists a triple of indices (i, j, k) such that i < j < k and nums[i] < nums[j] < nums[k]. If no such indices exists, return false.\n",
        "\n",
        "\n",
        "\n",
        "Example 1:\n",
        "\n",
        "Input: nums = [1,2,3,4,5]\n",
        "Output: true\n",
        "Explanation: Any triplet where i < j < k is valid.\n",
        "Example 2:\n",
        "\n",
        "Input: nums = [5,4,3,2,1]\n",
        "Output: false\n",
        "Explanation: No triplet exists.\n",
        "Example 3:\n",
        "\n",
        "Input: nums = [2,1,5,0,4,6]\n",
        "Output: true\n",
        "Explanation: The triplet (3, 4, 5) is valid because nums[3] == 0 < nums[4] == 4 < nums[5] == 6."
      ],
      "metadata": {
        "id": "tIUiF7YVXlLO"
      }
    },
    {
      "cell_type": "code",
      "execution_count": 5,
      "metadata": {
        "colab": {
          "base_uri": "https://localhost:8080/"
        },
        "id": "Ge5Ua3eZV1b6",
        "outputId": "939afa0e-1f2e-42cc-e472-ebf176509bc4"
      },
      "outputs": [
        {
          "output_type": "stream",
          "name": "stdout",
          "text": [
            "True\n",
            "False\n"
          ]
        }
      ],
      "source": [
        "class Solution:\n",
        "  def __init__(self, list1):\n",
        "    self.list1 = list1\n",
        "  def triplett(self):\n",
        "    count = 0\n",
        "    for i in range(len(self.list1)-2):\n",
        "      if self.list1[i]< self.list1[i+1] < self.list1[i+2]:\n",
        "        count += 1\n",
        "    return count > 0\n",
        "s1 = Solution([2,1,5,0,4,6])\n",
        "result= s1.triplett()\n",
        "print(result)\n",
        "\n",
        "s2 = Solution([5,4,3,2,1])\n",
        "result= s2.triplett()\n",
        "print(result)"
      ]
    }
  ]
}