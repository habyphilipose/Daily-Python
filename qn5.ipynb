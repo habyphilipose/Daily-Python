{
  "nbformat": 4,
  "nbformat_minor": 0,
  "metadata": {
    "colab": {
      "provenance": []
    },
    "kernelspec": {
      "name": "python3",
      "display_name": "Python 3"
    },
    "language_info": {
      "name": "python"
    }
  },
  "cells": [
    {
      "cell_type": "markdown",
      "source": [
        "##Given a string s, reverse only all the vowels in the string and return it.\n",
        "\n",
        "The vowels are 'a', 'e', 'i', 'o', and 'u', and they can appear in both lower and upper cases, more than once.\n",
        "\n",
        "\n",
        "\n",
        "Example 1:\n",
        "\n",
        "Input: s = \"hello\"\n",
        "Output: \"holle\"\n",
        "Example 2:\n",
        "\n",
        "Input: s = \"leetcode\"\n",
        "Output: \"leotcede\""
      ],
      "metadata": {
        "id": "MCF91jrs-K03"
      }
    },
    {
      "cell_type": "code",
      "execution_count": 7,
      "metadata": {
        "colab": {
          "base_uri": "https://localhost:8080/"
        },
        "id": "gyS_AiD1-Iqd",
        "outputId": "0eb69d27-ba1a-477b-ef70-6599909a2f52"
      },
      "outputs": [
        {
          "output_type": "stream",
          "name": "stdout",
          "text": [
            "leotcede\n"
          ]
        }
      ],
      "source": [
        "class Solution:\n",
        "  def __init__(self, word1:str):\n",
        "    self.word1 = word1\n",
        "  def reverse(self):\n",
        "    l1 = list(self.word1)\n",
        "    l2 = []\n",
        "    for i in range(len(l1)):\n",
        "      if l1[i]=='a' or l1[i]=='e' or l1[i]=='i' or l1[i]=='o' or l1[i]=='u':\n",
        "        l2.append(l1[i])\n",
        "    l2 = l2[::-1] #used to reverse the list\n",
        "    j = 0\n",
        "    for i in range(len(l1)):\n",
        "      if l1[i]=='a' or l1[i]=='e' or l1[i]=='i' or l1[i]=='o' or l1[i]=='u':\n",
        "        l1[i] = l2[j]\n",
        "        j += 1\n",
        "    return ''.join(l1)\n",
        "s1 = Solution('leetcode')\n",
        "result = s1.reverse()\n",
        "print(result)"
      ]
    }
  ]
}