{
  "nbformat": 4,
  "nbformat_minor": 0,
  "metadata": {
    "colab": {
      "provenance": []
    },
    "kernelspec": {
      "name": "python3",
      "display_name": "Python 3"
    },
    "language_info": {
      "name": "python"
    }
  },
  "cells": [
    {
      "cell_type": "markdown",
      "source": [
        "##SEE THIS CONCEPT BEFORE ATTENDING THIS QUESTION"
      ],
      "metadata": {
        "id": "rzLNGYgChZiS"
      }
    },
    {
      "cell_type": "code",
      "source": [
        "a= 'Haby-Plays-well'\n",
        "a = a.split('-')\n",
        "a"
      ],
      "metadata": {
        "colab": {
          "base_uri": "https://localhost:8080/"
        },
        "id": "7RsG2RehfB9k",
        "outputId": "d0dd7ff5-291a-4c43-9364-c9a7b0777e0a"
      },
      "execution_count": 24,
      "outputs": [
        {
          "output_type": "execute_result",
          "data": {
            "text/plain": [
              "['Haby', 'Plays', 'well']"
            ]
          },
          "metadata": {},
          "execution_count": 24
        }
      ]
    },
    {
      "cell_type": "code",
      "source": [
        "a= 'Haby-Plays-well'\n",
        "a.split('-') #see why this code is not working\n",
        "a"
      ],
      "metadata": {
        "colab": {
          "base_uri": "https://localhost:8080/",
          "height": 35
        },
        "id": "KksWReDAf8Fj",
        "outputId": "50e1ffb5-6bc0-4c0c-8d6d-9a83ec43da72"
      },
      "execution_count": 26,
      "outputs": [
        {
          "output_type": "execute_result",
          "data": {
            "text/plain": [
              "'Haby-Plays-well'"
            ],
            "application/vnd.google.colaboratory.intrinsic+json": {
              "type": "string"
            }
          },
          "metadata": {},
          "execution_count": 26
        }
      ]
    },
    {
      "cell_type": "markdown",
      "source": [
        "In Python, strings are immutable, which means that operations like split() don't modify the original string; they return a new object instead. Here's how you can split a string and assign the result back to the variable:\n",
        "\n"
      ],
      "metadata": {
        "id": "wmqGDFyPgp4g"
      }
    },
    {
      "cell_type": "markdown",
      "source": [
        "##QN) Given an input string s, reverse the order of the words.\n",
        "\n",
        "A word is defined as a sequence of non-space characters. The words in s will be separated by at least one space.\n",
        "\n",
        "Return a string of the words in reverse order concatenated by a single space.\n",
        "\n",
        "Note that s may contain leading or trailing spaces or multiple spaces between two words. The returned string should only have a single space separating the words. Do not include any extra spaces.\n",
        "\n",
        "\n",
        "\n",
        "Example 1:\n",
        "\n",
        "Input: s = \"the sky is blue\"\n",
        "Output: \"blue is sky the\"\n",
        "Example 2:\n",
        "\n",
        "Input: s = \"  hello world  \"\n",
        "Output: \"world hello\"\n",
        "Explanation: Your reversed string should not contain leading or trailing spaces.\n",
        "Example 3:\n",
        "\n",
        "Input: s = \"a good   example\"\n",
        "Output: \"example good a\"\n",
        "Explanation: You need to reduce multiple spaces between two words to a single space in the reversed string."
      ],
      "metadata": {
        "id": "KUJyYQfRe-mv"
      }
    },
    {
      "cell_type": "code",
      "source": [],
      "metadata": {
        "id": "b5fNmltLgqhI"
      },
      "execution_count": null,
      "outputs": []
    },
    {
      "cell_type": "code",
      "source": [
        "class Solution:\n",
        "  def __init__(self, word1:str):\n",
        "    self.word1 = word1\n",
        "  def reverser(self):\n",
        "    a = self.word1\n",
        "    a = a.split()\n",
        "    a = list(a)\n",
        "    a = a[::-1]\n",
        "    return ' '.join(a)\n",
        "s1= Solution('Haby Plays Well')\n",
        "result = s1.reverser()\n",
        "print(result)"
      ],
      "metadata": {
        "colab": {
          "base_uri": "https://localhost:8080/"
        },
        "id": "zXn_uBxDgsdG",
        "outputId": "3a00d822-dd83-4b23-8b28-5e6188e9fcdf"
      },
      "execution_count": 30,
      "outputs": [
        {
          "output_type": "stream",
          "name": "stdout",
          "text": [
            "Well Plays Haby\n"
          ]
        }
      ]
    }
  ]
}